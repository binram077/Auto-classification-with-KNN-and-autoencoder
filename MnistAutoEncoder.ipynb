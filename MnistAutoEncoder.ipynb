{
  "nbformat": 4,
  "nbformat_minor": 0,
  "metadata": {
    "colab": {
      "name": "MnistAutoEncoder.ipynb",
      "provenance": [],
      "collapsed_sections": []
    },
    "kernelspec": {
      "display_name": "Python 3",
      "name": "python3"
    }
  },
  "cells": [
    {
      "cell_type": "code",
      "metadata": {
        "id": "UT-WXCSxGJFH"
      },
      "source": [
        "import os\n",
        "import math\n",
        "import random\n",
        "import shutil\n",
        "from PIL import Image\n",
        "\n",
        "import numpy as np\n",
        "import pandas as pd\n",
        "import matplotlib.pyplot as plt\n",
        "import seaborn as sn\n",
        "\n",
        "import tensorflow as tf\n",
        "from tensorflow import keras\n",
        "from tensorflow.keras import layers"
      ],
      "execution_count": null,
      "outputs": []
    },
    {
      "cell_type": "code",
      "metadata": {
        "id": "N5OPsoAiGR2Y"
      },
      "source": [
        "mnist = keras.datasets.mnist\n",
        "\n",
        "(X_train,Y_train),(X_test,Y_test) = mnist.load_data()"
      ],
      "execution_count": null,
      "outputs": []
    },
    {
      "cell_type": "code",
      "metadata": {
        "id": "U7mIlzi4Igf9"
      },
      "source": [
        "X_train,X_test = X_train/255.0,X_test/255.0"
      ],
      "execution_count": null,
      "outputs": []
    },
    {
      "cell_type": "code",
      "metadata": {
        "id": "XOMOzyWTI6Pa"
      },
      "source": [
        "inputs1 = tf.keras.Input(shape=(28,28))\n",
        "reshape1 = layers.Reshape((28,28,1),input_shape = (28,28))\n",
        "conv1 = layers.Conv2D(2,kernel_size=(2,2),activation='tanh')\n",
        "conv2 = layers.Conv2D(1,kernel_size=(2,2),activation='tanh')\n",
        "maxPool = layers.MaxPool2D((2,2))\n",
        "flatten1 = layers.Flatten()\n",
        "dense1 = layers.Dense(40,activation='tanh')\n",
        "dense2 = layers.Dense(10,activation='sigmoid')\n",
        "dense3 = layers.Dense(49,activation='sigmoid')\n",
        "dense4 = layers.Dense(250,activation='sigmoid')\n",
        "#reshape2 = tf.keras.layers.Reshape((7, 7,1), input_shape=(7*7,))\n",
        "#CTranspose = layers.Convolution2DTranspose(1,(4,4),activation='sigmoid')\n",
        "#flatten2 = layers.Flatten()\n",
        "dense5 = layers.Dense(28*28,activation='sigmoid')\n",
        "main_output = tf.keras.layers.Reshape((28, 28,1), input_shape=(28*28,))"
      ],
      "execution_count": null,
      "outputs": []
    },
    {
      "cell_type": "code",
      "metadata": {
        "colab": {
          "base_uri": "https://localhost:8080/"
        },
        "id": "KgVmLOWDa0U-",
        "outputId": "87e7f1f1-7893-4254-aef0-e46ca77d7c5b"
      },
      "source": [
        "x1 = reshape1(inputs1)\n",
        "x1 = conv1(x1)\n",
        "x1 = conv2(x1)\n",
        "x1 = maxPool(x1)\n",
        "x1 = flatten1(x1)\n",
        "x1 = dense1(x1)\n",
        "x1 = dense2(x1)\n",
        "outputs2 = x1\n",
        "\n",
        "encoder = keras.Model(inputs=inputs1,outputs = outputs2,name = 'Encoder')\n",
        "\n",
        "\n",
        "inputs2 = keras.Input(shape=(10))\n",
        "x2 = dense3(inputs2)\n",
        "#x2 = reshape2(x2)\n",
        "#x2 = CTranspose(x2)\n",
        "#x2 = flatten2(x2)\n",
        "x2 = dense4(x2)\n",
        "x2 = dense5(x2)\n",
        "outputs1 = main_output(x2)\n",
        "\n",
        "decoder = keras.Model(inputs=inputs2,outputs = outputs1,name = 'Decoder')\n",
        "\n",
        "AutoEncoder = keras.Model(inputs=inputs1,outputs = decoder(encoder(inputs1)),name = 'AutoEncoder')\n",
        "\n",
        "print(encoder.summary())\n",
        "print('')\n",
        "print('')\n",
        "print(decoder.summary())\n",
        "print('')\n",
        "print('')\n",
        "print(AutoEncoder.summary())"
      ],
      "execution_count": null,
      "outputs": [
        {
          "output_type": "stream",
          "text": [
            "Model: \"Encoder\"\n",
            "_________________________________________________________________\n",
            "Layer (type)                 Output Shape              Param #   \n",
            "=================================================================\n",
            "input_3 (InputLayer)         [(None, 28, 28)]          0         \n",
            "_________________________________________________________________\n",
            "reshape_2 (Reshape)          (None, 28, 28, 1)         0         \n",
            "_________________________________________________________________\n",
            "conv2d_2 (Conv2D)            (None, 27, 27, 2)         10        \n",
            "_________________________________________________________________\n",
            "conv2d_3 (Conv2D)            (None, 26, 26, 1)         9         \n",
            "_________________________________________________________________\n",
            "max_pooling2d_1 (MaxPooling2 (None, 13, 13, 1)         0         \n",
            "_________________________________________________________________\n",
            "flatten_1 (Flatten)          (None, 169)               0         \n",
            "_________________________________________________________________\n",
            "dense_5 (Dense)              (None, 40)                6800      \n",
            "_________________________________________________________________\n",
            "dense_6 (Dense)              (None, 10)                410       \n",
            "=================================================================\n",
            "Total params: 7,229\n",
            "Trainable params: 7,229\n",
            "Non-trainable params: 0\n",
            "_________________________________________________________________\n",
            "None\n",
            "\n",
            "\n",
            "Model: \"Decoder\"\n",
            "_________________________________________________________________\n",
            "Layer (type)                 Output Shape              Param #   \n",
            "=================================================================\n",
            "input_4 (InputLayer)         [(None, 10)]              0         \n",
            "_________________________________________________________________\n",
            "dense_7 (Dense)              (None, 49)                539       \n",
            "_________________________________________________________________\n",
            "dense_8 (Dense)              (None, 250)               12500     \n",
            "_________________________________________________________________\n",
            "dense_9 (Dense)              (None, 784)               196784    \n",
            "_________________________________________________________________\n",
            "reshape_3 (Reshape)          (None, 28, 28, 1)         0         \n",
            "=================================================================\n",
            "Total params: 209,823\n",
            "Trainable params: 209,823\n",
            "Non-trainable params: 0\n",
            "_________________________________________________________________\n",
            "None\n",
            "\n",
            "\n",
            "Model: \"AutoEncoder\"\n",
            "_________________________________________________________________\n",
            "Layer (type)                 Output Shape              Param #   \n",
            "=================================================================\n",
            "input_3 (InputLayer)         [(None, 28, 28)]          0         \n",
            "_________________________________________________________________\n",
            "Encoder (Functional)         (None, 10)                7229      \n",
            "_________________________________________________________________\n",
            "Decoder (Functional)         (None, 28, 28, 1)         209823    \n",
            "=================================================================\n",
            "Total params: 217,052\n",
            "Trainable params: 217,052\n",
            "Non-trainable params: 0\n",
            "_________________________________________________________________\n",
            "None\n"
          ],
          "name": "stdout"
        }
      ]
    },
    {
      "cell_type": "code",
      "metadata": {
        "id": "xAG_D1T6OIXl"
      },
      "source": [
        "loss = keras.losses.mean_squared_error\n",
        "optimizer = keras.optimizers.Adam(learning_rate=0.007)\n",
        "metrics = ['accuracy']\n",
        "\n",
        "AutoEncoder.compile(loss=loss,metrics=metrics,optimizer=optimizer)"
      ],
      "execution_count": null,
      "outputs": []
    },
    {
      "cell_type": "code",
      "metadata": {
        "colab": {
          "base_uri": "https://localhost:8080/"
        },
        "id": "kDF9-RULOrTE",
        "outputId": "55aae354-0953-4c6e-c912-68ebb2f44589"
      },
      "source": [
        "batch_size = 32\n",
        "epochs = 4\n",
        "\n",
        "AutoEncoder.fit(x = X_train,y = X_train,batch_size=batch_size,epochs=epochs,verbose=1)"
      ],
      "execution_count": null,
      "outputs": [
        {
          "output_type": "stream",
          "text": [
            "Epoch 1/4\n",
            "1875/1875 [==============================] - 25s 13ms/step - loss: 0.0430 - accuracy: 0.8001\n",
            "Epoch 2/4\n",
            "1875/1875 [==============================] - 26s 14ms/step - loss: 0.0266 - accuracy: 0.8064\n",
            "Epoch 3/4\n",
            "1875/1875 [==============================] - 25s 14ms/step - loss: 0.0229 - accuracy: 0.8083\n",
            "Epoch 4/4\n",
            "1875/1875 [==============================] - 26s 14ms/step - loss: 0.0206 - accuracy: 0.8093\n"
          ],
          "name": "stdout"
        },
        {
          "output_type": "execute_result",
          "data": {
            "text/plain": [
              "<tensorflow.python.keras.callbacks.History at 0x7f855bb3d668>"
            ]
          },
          "metadata": {
            "tags": []
          },
          "execution_count": 39
        }
      ]
    },
    {
      "cell_type": "code",
      "metadata": {
        "colab": {
          "base_uri": "https://localhost:8080/",
          "height": 1000
        },
        "id": "_z6233mRTWTB",
        "outputId": "53591773-5b9f-4f43-c9d5-3797e1ebb6c2"
      },
      "source": [
        "res = AutoEncoder.predict(X_test[0:5])\n",
        "\n",
        "for i in range(5):\n",
        "  plt.imshow(X_test[i])\n",
        "  plt.show()\n",
        "  plt.imshow(np.reshape(res[i],(28,28)))\n",
        "  plt.show()"
      ],
      "execution_count": null,
      "outputs": [
        {
          "output_type": "display_data",
          "data": {
            "image/png": "[encoded data removed]",
            "text/plain": [
              "<Figure size 432x288 with 1 Axes>"
            ]
          },
          "metadata": {
            "tags": [],
            "needs_background": "light"
          }
        },
        {
          "output_type": "display_data",
          "data": {
            "image/png": "[encoded data removed]",
            "text/plain": [
              "<Figure size 432x288 with 1 Axes>"
            ]
          },
          "metadata": {
            "tags": [],
            "needs_background": "light"
          }
        },
        {
          "output_type": "display_data",
          "data": {
            "image/png": "[encoded data removed]",
            "text/plain": [
              "<Figure size 432x288 with 1 Axes>"
            ]
          },
          "metadata": {
            "tags": [],
            "needs_background": "light"
          }
        },
        {
          "output_type": "display_data",
          "data": {
            "image/png": "[encoded data removed]",
            "text/plain": [
              "<Figure size 432x288 with 1 Axes>"
            ]
          },
          "metadata": {
            "tags": [],
            "needs_background": "light"
          }
        },
        {
          "output_type": "display_data",
          "data": {
            "image/png": "[encoded data removed]",
            "text/plain": [
              "<Figure size 432x288 with 1 Axes>"
            ]
          },
          "metadata": {
            "tags": [],
            "needs_background": "light"
          }
        },
        {
          "output_type": "display_data",
          "data": {
            "image/png": "[encoded data removed]",
            "text/plain": [
              "<Figure size 432x288 with 1 Axes>"
            ]
          },
          "metadata": {
            "tags": [],
            "needs_background": "light"
          }
        },
        {
          "output_type": "display_data",
          "data": {
            "image/png": "[encoded data removed]",
            "text/plain": [
              "<Figure size 432x288 with 1 Axes>"
            ]
          },
          "metadata": {
            "tags": [],
            "needs_background": "light"
          }
        },
        {
          "output_type": "display_data",
          "data": {
            "image/png": "[encoded data removed]",
            "text/plain": [
              "<Figure size 432x288 with 1 Axes>"
            ]
          },
          "metadata": {
            "tags": [],
            "needs_background": "light"
          }
        },
        {
          "output_type": "display_data",
          "data": {
            "image/png": "[encoded data removed]",
            "text/plain": [
              "<Figure size 432x288 with 1 Axes>"
            ]
          },
          "metadata": {
            "tags": [],
            "needs_background": "light"
          }
        },
        {
          "output_type": "display_data",
          "data": {
            "image/png": "[encoded data removed]",
            "text/plain": [
              "<Figure size 432x288 with 1 Axes>"
            ]
          },
          "metadata": {
            "tags": [],
            "needs_background": "light"
          }
        }
      ]
    },
    {
      "cell_type": "code",
      "metadata": {
        "id": "puZ8HT2OjxyO"
      },
      "source": [
        "class Knn:\n",
        "  def __init__(self,_num_classes = 10,_K = 1):\n",
        "    self.num_classes = _num_classes\n",
        "    self.K = _K\n",
        "    self.Data = []\n",
        "  \n",
        "  def fit(self,X_super,y_super):\n",
        "    for idx,_ in enumerate(X_super):\n",
        "      self.Data.append((X_super[idx],y_super[idx]))\n",
        "\n",
        "  def predictNearest(self,X):\n",
        "    distances = []\n",
        "    flags = []\n",
        "    for idx,(x,_) in enumerate(self.Data):\n",
        "      distances.append(np.mean(np.mean(keras.losses.mean_squared_error(X,x))))\n",
        "      flags.append(np.zeros(self.K))\n",
        "    k_Nearest = []\n",
        "    for i in range(self.K):\n",
        "      min = [500.0,-1]#i chose 500 as a big number but it could be 1000 also.\n",
        "      for idx,d in enumerate(distances):\n",
        "        #print(d[1] < min[0])\n",
        "        if d < min[0] and flags[idx][i] == 0.0:\n",
        "          min[0] = d\n",
        "          min[1] = idx\n",
        "          flags[idx] = np.ones(self.K)\n",
        "      if min[1] != -1:\n",
        "        k_Nearest.append(self.Data[min[1]])\n",
        "    return k_Nearest\n",
        "\n",
        "  def predict(self,X):\n",
        "    arr = self.predictNearest(X)\n",
        "    count_arr = np.zeros(self.num_classes)\n",
        "    for _,y in arr:\n",
        "      count_arr[y] += 1\n",
        "    return np.argmax(count_arr)"
      ],
      "execution_count": null,
      "outputs": []
    },
    {
      "cell_type": "code",
      "metadata": {
        "colab": {
          "base_uri": "https://localhost:8080/"
        },
        "id": "UOD-PYr0uFBt",
        "outputId": "ee35f9e4-2b23-4b6b-ca30-2e5f51643f95"
      },
      "source": [
        "knn = Knn()\n",
        "Xs = encoder.predict(X_train[0:200])\n",
        "ys = Y_train[0:200]\n",
        "\n",
        "print(Xs.shape)\n",
        "\n",
        "knn.fit(X_super = Xs,y_super=ys)"
      ],
      "execution_count": null,
      "outputs": [
        {
          "output_type": "stream",
          "text": [
            "(200, 10)\n"
          ],
          "name": "stdout"
        }
      ]
    },
    {
      "cell_type": "code",
      "metadata": {
        "id": "3adGV41xJmUY"
      },
      "source": [
        "def print_accuracy(Xs,Ys,KnnModel):\r\n",
        "  count = 0.0\r\n",
        "  for indx,_ in enumerate(Xs):\r\n",
        "    if KnnModel.predict(Xs[indx]) == Ys[indx]:\r\n",
        "      count += 1\r\n",
        "  print(str(count/len(Xs)))"
      ],
      "execution_count": null,
      "outputs": []
    },
    {
      "cell_type": "code",
      "metadata": {
        "colab": {
          "base_uri": "https://localhost:8080/"
        },
        "id": "3vvaK8B4L0l_",
        "outputId": "d78b72b5-9440-4c50-8912-dd3b68a05aca"
      },
      "source": [
        "print(len(encoder.predict(X_test)))\r\n",
        "print_accuracy(encoder.predict(X_test)[0:100],Y_test[0:100],knn)"
      ],
      "execution_count": null,
      "outputs": [
        {
          "output_type": "stream",
          "text": [
            "10000\n",
            "0.85\n"
          ],
          "name": "stdout"
        }
      ]
    },
    {
      "cell_type": "markdown",
      "metadata": {
        "id": "It0XB4sGknm9"
      },
      "source": [
        "In the next step I want to see what does every value in the encoded picture means,so, I choose one value and one picture and every step I slightly change the value and plot the new image."
      ]
    },
    {
      "cell_type": "code",
      "metadata": {
        "id": "WZTbCGoR0ZvW",
        "cellView": "code"
      },
      "source": [
        "#@title Default title text\n",
        "import cv2\n",
        "\n",
        "video = cv2.VideoWriter('eaxmple.avi', 0, 1, (28, 28)) \n",
        "\n",
        "for i in range(100):\n",
        "  encoded = encoder.predict(np.expand_dims(X_train[2],axis = 0))\n",
        "  encoded[0] += i*0.003\n",
        "  im = decoder(encoded)\n",
        "  plt.imshow(np.reshape(im,(28,28)))\n",
        "  plt.show()\n",
        "  #cv2.imwrite('/content/savedImages/img'+str(id), cv2.cvtColor(np.asarray(im), cv2.COLOR_RGB2BGR))\n",
        "  #video.write(cv2.imread(os.path.join('/content/savedImages/img'+str(i)),cv2.IMREAD_GRAYSCALE))\n",
        "\n",
        "#cv2.destroyAllWindows()  \n",
        "#video.release()"
      ],
      "execution_count": null,
      "outputs": []
    },
    {
      "cell_type": "code",
      "metadata": {
        "id": "WmxhVM_go6wA"
      },
      "source": [
        ""
      ],
      "execution_count": null,
      "outputs": []
    }
  ]
}